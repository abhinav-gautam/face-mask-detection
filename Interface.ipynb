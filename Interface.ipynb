{
 "cells": [
  {
   "cell_type": "markdown",
   "metadata": {},
   "source": [
    "# Interface"
   ]
  },
  {
   "cell_type": "markdown",
   "metadata": {},
   "source": [
    "### For Live Video"
   ]
  },
  {
   "cell_type": "code",
   "execution_count": 3,
   "metadata": {},
   "outputs": [],
   "source": [
    "import cv2\n",
    "import numpy as np\n",
    "from keras.models import load_model\n",
    "import datetime\n",
    "\n",
    "# Current date and time for output filename\n",
    "current_datetime = datetime.datetime.now()\n",
    "current_date = current_datetime.strftime(\"%x\").replace(\"/\",\"\")\n",
    "current_time = current_datetime.strftime(\"%X\").replace(\":\",\"\")\n",
    "output_filename = \"output_\"+str(current_date)+\"_\"+str(current_time)+\".avi\"\n",
    "\n",
    "# Loading model\n",
    "model=load_model(\"model2-009.model\")\n",
    "\n",
    "# Video overlay parameters\n",
    "results={0:'without mask',1:'with mask'}\n",
    "color_dict={0:(0,0,255),1:(0,255,0)}\n",
    "rect_size = 4\n",
    "\n",
    "# Initializing camera and output video writer\n",
    "cap = cv2.VideoCapture(0) \n",
    "fourcc = cv2.VideoWriter_fourcc(*'DIVX') \n",
    "out = cv2.VideoWriter(output_filename, fourcc, 20.0, (640 , 480)) \n",
    "\n",
    "# Haarcascade face classifier\n",
    "face_classifier = cv2.CascadeClassifier('haarcascade_frontalface_default.xml')\n",
    "\n",
    "while True:\n",
    "    # Capturing image\n",
    "    _, image = cap.read()\n",
    "    image=cv2.flip(image,1,1)     \n",
    "    rerect_size = cv2.resize(image, (image.shape[1] // rect_size, image.shape[0] // rect_size))\n",
    "    \n",
    "    # Detecting faces\n",
    "    faces = face_classifier.detectMultiScale(rerect_size) \n",
    "    for face in faces:\n",
    "        x, y, w, h = [v * rect_size for v in face] \n",
    "        \n",
    "        # Image preprocessing for model\n",
    "        face_img = image[y:y+h, x:x+w]\n",
    "        face_img_resized=cv2.resize(face_img,(150,150))\n",
    "        face_img_normalized=face_img_resized/255.0\n",
    "        face_img_reshaped=np.reshape(face_img_normalized,(1,150,150,3))\n",
    "        \n",
    "        # Predicting image\n",
    "        result=model.predict(face_img_reshaped)  \n",
    "        \n",
    "        # Plotting overlays\n",
    "        label=np.argmax(result,axis=1)[0]\n",
    "        cv2.rectangle(image,(x,y),(x+w,y+h),color_dict[label],2)\n",
    "        cv2.rectangle(image,(x,y-40),(x+w,y),color_dict[label],-1)\n",
    "        cv2.putText(image, results[label], (x, y-10),cv2.FONT_HERSHEY_SIMPLEX,0.8,(255,255,255),2)\n",
    "    \n",
    "    # Writing to output\n",
    "    out.write(image)\n",
    "    \n",
    "    # Displaying video\n",
    "    cv2.imshow('LIVE',image)\n",
    "    key = cv2.waitKey(10)\n",
    "    if key == 13: # Enter Key \n",
    "        break\n",
    "        \n",
    "# Releasing camera and video writer\n",
    "cap.release()\n",
    "out.release()\n",
    "cv2.destroyAllWindows()"
   ]
  },
  {
   "cell_type": "markdown",
   "metadata": {},
   "source": [
    "### For Single Image"
   ]
  },
  {
   "cell_type": "code",
   "execution_count": 30,
   "metadata": {},
   "outputs": [],
   "source": [
    "from keras.models import load_model\n",
    "import numpy as np\n",
    "import cv2\n",
    "\n",
    "# Video overlay parameters\n",
    "rect_size = 4\n",
    "results={0:'without mask',1:'with mask'}\n",
    "color_dict={0:(0,0,255),1:(0,255,0)}\n",
    "\n",
    "# Loading model\n",
    "model = load_model('model2-009.model')\n",
    "\n",
    "# Haarcascade face classifier\n",
    "face_classifier = cv2.CascadeClassifier('haarcascade_frontalface_default.xml')\n",
    "\n",
    "# Function to predict image, requires path to image\n",
    "def predict_image(image_path):\n",
    "    # Reading image\n",
    "    image=cv2.imread(image_path) \n",
    "    rerect_size = cv2.resize(image, (image.shape[1] // rect_size, image.shape[0] // rect_size))\n",
    "    \n",
    "    # Detecting faces\n",
    "    faces = face_classifier.detectMultiScale(rerect_size)\n",
    "    \n",
    "    for face in faces:\n",
    "        x, y, w, h = [v * rect_size for v in face] \n",
    "        \n",
    "        # Image preprocessing for model\n",
    "        face_img = image[y:y+h, x:x+w]\n",
    "        face_img_resized=cv2.resize(face_img,(150,150))\n",
    "        face_img_normalized=face_img_resized/255.0\n",
    "        face_img_reshaped=np.reshape(face_img_normalized,(1,150,150,3))\n",
    "        \n",
    "        # Predicting image\n",
    "        result=model.predict(face_img_reshaped)\n",
    "        \n",
    "        # Plotting overlays\n",
    "        label=np.argmax(result,axis=1)[0]\n",
    "        cv2.rectangle(image,(x,y),(x+w,y+h),color_dict[label],2)\n",
    "        cv2.rectangle(image,(x,y-40),(x+w,y),color_dict[label],-1)\n",
    "        cv2.putText(image, results[label], (x, y-10),cv2.FONT_HERSHEY_SIMPLEX,0.8,(255,255,255),2)\n",
    "        \n",
    "    # Displaying image\n",
    "    cv2.imshow('Single',image)\n",
    "    \n",
    "    # Saving operated image \n",
    "    output_image_name = image_path.split(\".\")[0]+\"_output.jpg\"\n",
    "    cv2.imwrite(output_image_name,image)\n",
    "    \n",
    "    # Closing windows\n",
    "    cv2.waitKey(0)\n",
    "    cv2.destroyAllWindows()"
   ]
  },
  {
   "cell_type": "code",
   "execution_count": 31,
   "metadata": {},
   "outputs": [],
   "source": [
    "# Predicting Image\n",
    "predict_image('abhinav_without_mask.jpeg')\n",
    "predict_image('abhinav_with_mask.jpeg')"
   ]
  },
  {
   "cell_type": "code",
   "execution_count": null,
   "metadata": {},
   "outputs": [],
   "source": []
  }
 ],
 "metadata": {
  "kernelspec": {
   "display_name": "Python 3",
   "language": "python",
   "name": "python3"
  },
  "language_info": {
   "codemirror_mode": {
    "name": "ipython",
    "version": 3
   },
   "file_extension": ".py",
   "mimetype": "text/x-python",
   "name": "python",
   "nbconvert_exporter": "python",
   "pygments_lexer": "ipython3",
   "version": "3.7.7"
  }
 },
 "nbformat": 4,
 "nbformat_minor": 4
}
